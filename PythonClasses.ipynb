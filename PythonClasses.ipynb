{
  "nbformat": 4,
  "nbformat_minor": 0,
  "metadata": {
    "colab": {
      "provenance": []
    },
    "kernelspec": {
      "name": "python3",
      "display_name": "Python 3"
    },
    "language_info": {
      "name": "python"
    }
  },
  "cells": [
    {
      "cell_type": "markdown",
      "source": [],
      "metadata": {
        "id": "HJHM_DuXg4aT"
      }
    },
    {
      "cell_type": "markdown",
      "source": [
        "Exercise 1 : Write a Python program to create a class representing a Circle. Include methods to calculate its area and perimeter."
      ],
      "metadata": {
        "id": "4FflfgMKg57S"
      }
    },
    {
      "cell_type": "code",
      "source": [
        "import math\n",
        "\n",
        "class Circle:\n",
        "    def __init__(self, radius):\n",
        "        self.radius = radius\n",
        "\n",
        "    def calculate_circle_area(self):\n",
        "        return math.pi * self.radius**2\n",
        "\n",
        "    def calculate_circle_perimeter(self):\n",
        "        return 2 * math.pi * self.radius\n",
        "\n",
        "radius = float(input(\"Input the radius of the circle: \"))\n",
        "\n",
        "circle = Circle(radius)\n",
        "\n",
        "area = circle.calculate_circle_area()\n",
        "\n",
        "perimeter = circle.calculate_circle_perimeter()\n",
        "\n",
        "print(\"Area of the circle:\", area)\n",
        "print(\"Perimeter of the circle:\", perimeter)"
      ],
      "metadata": {
        "colab": {
          "base_uri": "https://localhost:8080/"
        },
        "id": "sKi9Wp0sh63_",
        "outputId": "3ede8390-00d4-48d4-ac4d-43b12c7ca81d"
      },
      "execution_count": 4,
      "outputs": [
        {
          "output_type": "stream",
          "name": "stdout",
          "text": [
            "Input the radius of the circle: 4\n",
            "Area of the circle: 50.26548245743669\n",
            "Perimeter of the circle: 25.132741228718345\n"
          ]
        }
      ]
    },
    {
      "cell_type": "markdown",
      "source": [
        "Exercise 2 : Write a Python program to create a calculator class. Include methods for basic arithmetic operations."
      ],
      "metadata": {
        "id": "XSxZvLRzi3Nc"
      }
    },
    {
      "cell_type": "code",
      "source": [
        "class Calculator:\n",
        "\n",
        "    def add(self, x, y):\n",
        "        return x + y\n",
        "\n",
        "    def subtract(self, x, y):\n",
        "        return x - y\n",
        "\n",
        "    def multiply(self, x, y):\n",
        "        return x * y\n",
        "\n",
        "    def divide(self, x, y):\n",
        "        if y != 0:\n",
        "            return x / y\n",
        "        else:\n",
        "            return (\"Cannot divide by zero.\")\n",
        "\n",
        "\n",
        "calculator = Calculator()\n",
        "\n",
        "result = calculator.add(44, 88)\n",
        "print(\"44 + 88 = \", result)\n",
        "\n",
        "result = calculator.subtract(44, 22)\n",
        "print(\"44 - 22 = \", result)\n",
        "\n",
        "result = calculator.multiply(44, 66)\n",
        "print(\"44 * 66 = \", result)\n",
        "\n",
        "result = calculator.divide(44, 11)\n",
        "print(\"44 / 11 = \", result)\n",
        "\n",
        "result = calculator.divide(44, 0)\n",
        "print(\"44 / 0 =\", result)"
      ],
      "metadata": {
        "colab": {
          "base_uri": "https://localhost:8080/"
        },
        "id": "dpxVh4Zpj8WO",
        "outputId": "0603189e-8215-41da-f31d-4a6a65c2efb0"
      },
      "execution_count": 6,
      "outputs": [
        {
          "output_type": "stream",
          "name": "stdout",
          "text": [
            "44 + 88 =  132\n",
            "44 - 22 =  22\n",
            "44 * 66 =  2904\n",
            "44 / 11 =  4.0\n",
            "44 / 0 = Cannot divide by zero.\n"
          ]
        }
      ]
    },
    {
      "cell_type": "markdown",
      "source": [
        "Exercise 3 : Write a Python program to create a class that represents a shape. Include methods to calculate its area and perimeter. Implement subclasses for different shapes like circle, triangle, and square."
      ],
      "metadata": {
        "id": "xqq-cS_rlXFK"
      }
    },
    {
      "cell_type": "code",
      "source": [
        "import math\n",
        "\n",
        "class Shape:\n",
        "\n",
        "    def calculate_area(self):\n",
        "        pass\n",
        "\n",
        "    def calculate_perimeter(self):\n",
        "        pass\n",
        "\n",
        "class Circle(Shape):\n",
        "\n",
        "    def __init__(self, radius):\n",
        "        self.radius = radius\n",
        "\n",
        "    def calculate_area(self):\n",
        "        return math.pi * self.radius**2\n",
        "\n",
        "    def calculate_perimeter(self):\n",
        "        return 2 * math.pi * self.radius\n",
        "\n",
        "class Rectangle(Shape):\n",
        "\n",
        "    def __init__(self, length, width):\n",
        "        self.length = length\n",
        "        self.width = width\n",
        "\n",
        "    def calculate_area(self):\n",
        "        return self.length * self.width\n",
        "\n",
        "    def calculate_perimeter(self):\n",
        "        return 2 * (self.length + self.width)\n",
        "\n",
        "class Triangle(Shape):\n",
        "\n",
        "    def __init__(self, base, height, side1, side2, side3):\n",
        "        self.base = base\n",
        "        self.height = height\n",
        "        self.side1 = side1\n",
        "        self.side2 = side2\n",
        "        self.side3 = side3\n",
        "\n",
        "    def calculate_area(self):\n",
        "        return 0.5 * self.base * self.height\n",
        "\n",
        "    def calculate_perimeter(self):\n",
        "        return self.side1 + self.side2 + self.side3\n",
        "\n",
        "r = 7\n",
        "circle = Circle(r)\n",
        "circle_area = circle.calculate_area()\n",
        "circle_perimeter = circle.calculate_perimeter()\n",
        "\n",
        "print(f\"Radius of the circle :  {r}\")\n",
        "print(f\"Circle Area :  {circle_area}\")\n",
        "print(f\"Circle Perimeter :  {circle_perimeter}\")\n",
        "\n",
        "l = 5\n",
        "w = 7\n",
        "rectangle = Rectangle(l, w)\n",
        "rectangle_area = rectangle.calculate_area()\n",
        "rectangle_perimeter = rectangle.calculate_perimeter()\n",
        "\n",
        "print(f\"\\nRectangle :\\nLength = {l} ,  Width =  {w}\")\n",
        "print(f\"Rectangle Area :  {rectangle_area}\")\n",
        "print(f\"Rectangle Perimeter :  {rectangle_perimeter}\")\n",
        "\n",
        "base = 5\n",
        "height = 4\n",
        "s1 = 4\n",
        "s2 = 3\n",
        "s3 = 5\n",
        "\n",
        "print(f\"\\nTriangle :\\nBase =  {base} , Height =  {height} ,  side1 =  {s1} ,  side2 =  {s2} ,  side3 =  {s3}\")\n",
        "triangle = Triangle(base, height, s1, s2, s3)\n",
        "triangle_area = triangle.calculate_area()\n",
        "triangle_perimeter = triangle.calculate_perimeter()\n",
        "print(f\"Triangle Area :  {triangle_area}\")\n",
        "print(f\"Triangle Perimeter :  {triangle_perimeter}\")"
      ],
      "metadata": {
        "colab": {
          "base_uri": "https://localhost:8080/"
        },
        "id": "0Fwl3Implhh8",
        "outputId": "c1f09181-79e1-4e99-8e1f-4e2042ff826c"
      },
      "execution_count": 10,
      "outputs": [
        {
          "output_type": "stream",
          "name": "stdout",
          "text": [
            "Radius of the circle :  7\n",
            "Circle Area :  153.93804002589985\n",
            "Circle Perimeter :  43.982297150257104\n",
            "\n",
            "Rectangle :\n",
            "Length = 5 ,  Width =  7\n",
            "Rectangle Area :  35\n",
            "Rectangle Perimeter :  24\n",
            "\n",
            "Triangle :\n",
            "Base =  5 , Height =  4 ,  side1 =  4 ,  side2 =  3 ,  side3 =  5\n",
            "Triangle Area :  10.0\n",
            "Triangle Perimeter :  12\n"
          ]
        }
      ]
    }
  ]
}