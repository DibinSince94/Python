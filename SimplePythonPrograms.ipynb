{
  "nbformat": 4,
  "nbformat_minor": 0,
  "metadata": {
    "colab": {
      "provenance": []
    },
    "kernelspec": {
      "name": "python3",
      "display_name": "Python 3"
    },
    "language_info": {
      "name": "python"
    }
  },
  "cells": [
    {
      "cell_type": "code",
      "execution_count": null,
      "metadata": {
        "id": "eG-21-mj5SKz"
      },
      "outputs": [],
      "source": []
    },
    {
      "cell_type": "markdown",
      "source": [
        "1.Write a program to sum all the items in a list."
      ],
      "metadata": {
        "id": "MfqyOV3e5TXG"
      }
    },
    {
      "cell_type": "code",
      "source": [
        "l=[11,22,33,44,55,66,77,88,99]\n",
        "total=sum(l)\n",
        "print(\"Sum of the List is : \",total)"
      ],
      "metadata": {
        "colab": {
          "base_uri": "https://localhost:8080/"
        },
        "id": "DEj0hUF26Urx",
        "outputId": "8743ea3e-22ff-4f25-ded0-b1b1478fd4b4"
      },
      "execution_count": null,
      "outputs": [
        {
          "output_type": "stream",
          "name": "stdout",
          "text": [
            "Sum of the List is :  495\n"
          ]
        }
      ]
    },
    {
      "cell_type": "markdown",
      "source": [
        "2.Write a python program to get the largest number from the list."
      ],
      "metadata": {
        "id": "SCjQx4fQ7Rud"
      }
    },
    {
      "cell_type": "code",
      "source": [
        "l=[22,24,34,38,56,67,14,99,88,74,94]\n",
        "largest_number=max(l)\n",
        "print(\"The Largest Number from the List is : \",largest_number)"
      ],
      "metadata": {
        "colab": {
          "base_uri": "https://localhost:8080/"
        },
        "id": "tZM_-Ie28IcM",
        "outputId": "77be5473-be2d-4995-b6a9-46f6fd13b7dc"
      },
      "execution_count": null,
      "outputs": [
        {
          "output_type": "stream",
          "name": "stdout",
          "text": [
            "The Largest Number from the List is :  99\n"
          ]
        }
      ]
    },
    {
      "cell_type": "markdown",
      "source": [
        "3.Write a python program to count the number of strings from a given list of strings. The string length is 2 or more and the first and last characters are the same."
      ],
      "metadata": {
        "id": "b_0lilbh9lzb"
      }
    },
    {
      "cell_type": "code",
      "source": [
        " l=['melvin','kelvin','alvin','darvin','2244','2343','1231','1221']\n",
        " count_strings=sum(1 for word in l if len(word)>=2 and word[0]==word[-1])\n",
        " print(\"Number of Strings : \",count_strings)"
      ],
      "metadata": {
        "colab": {
          "base_uri": "https://localhost:8080/"
        },
        "id": "9eCRON_FBoSj",
        "outputId": "64bf2d7e-5b35-4ba1-b1a2-cedacccb9849"
      },
      "execution_count": null,
      "outputs": [
        {
          "output_type": "stream",
          "name": "stdout",
          "text": [
            "Number of Strings :  2\n"
          ]
        }
      ]
    },
    {
      "cell_type": "markdown",
      "source": [
        "4.Write a python program to remove duplicates from a list."
      ],
      "metadata": {
        "id": "zd8wMjO2FubS"
      }
    },
    {
      "cell_type": "code",
      "source": [
        "l=['rob','sansa','arya','brandon','arya','sansa','rickon']\n",
        "unique_list=list(set(l))\n",
        "print(\"List after removing duplicates :\",unique_list)"
      ],
      "metadata": {
        "id": "C1ol0qAzGkUF",
        "outputId": "78fc2f7c-b255-42cf-cf1e-68ed8bfd5f76",
        "colab": {
          "base_uri": "https://localhost:8080/"
        }
      },
      "execution_count": 113,
      "outputs": [
        {
          "output_type": "stream",
          "name": "stdout",
          "text": [
            "List after removing duplicates : ['rob', 'sansa', 'brandon', 'rickon', 'arya']\n"
          ]
        }
      ]
    },
    {
      "cell_type": "markdown",
      "source": [
        "5.write a python program to check if a list is empty or not."
      ],
      "metadata": {
        "id": "MQ7KgoElHqHZ"
      }
    },
    {
      "cell_type": "code",
      "source": [
        " l=['rob','sansa','arya','brandon','rickon']\n",
        " if not l:\n",
        "    print(\"The list is Empty\")\n",
        " else:\n",
        "    print(\"The list is not empty and they are : \",l)"
      ],
      "metadata": {
        "id": "nCbElosdJYIx",
        "outputId": "83d10a34-e28b-4314-e163-7ca022e39d2f",
        "colab": {
          "base_uri": "https://localhost:8080/"
        }
      },
      "execution_count": 111,
      "outputs": [
        {
          "output_type": "stream",
          "name": "stdout",
          "text": [
            "The list is not empty and they are :  ['rob', 'sansa', 'arya', 'brandon', 'rickon']\n"
          ]
        }
      ]
    },
    {
      "cell_type": "markdown",
      "source": [
        "6.Write a python program to filter the list if the length of the character is>4."
      ],
      "metadata": {
        "id": "0ge1tGLOK0Nu"
      }
    },
    {
      "cell_type": "code",
      "source": [
        "l=['run','watch','match','catch','put','do','for']\n",
        "filtered_list=[word for word in l if len(word)<4]\n",
        "print(\"Filtered list is : \",filtered_list)"
      ],
      "metadata": {
        "id": "g90wZSxxLt2S",
        "outputId": "7cae7277-8064-423d-8398-797bf5b47630",
        "colab": {
          "base_uri": "https://localhost:8080/"
        }
      },
      "execution_count": null,
      "outputs": [
        {
          "output_type": "stream",
          "name": "stdout",
          "text": [
            "Filtered list is :  ['run', 'put', 'do', 'for']\n"
          ]
        }
      ]
    },
    {
      "cell_type": "markdown",
      "source": [
        "7.Write a python program to find the second largest number in a list."
      ],
      "metadata": {
        "id": "mnN6BJxnOLyb"
      }
    },
    {
      "cell_type": "code",
      "source": [
        "l=[22,55,44,11,66,77,33,88,99]\n",
        "sorted_list=sorted(set(l))\n",
        "if len(sorted_list)>1:\n",
        "  second_largest=sorted_list[1]\n",
        "  print(\"Second largest number is : \",second_largest)\n",
        "else:\n",
        "  print(\"There is no second largest number in this list.\")"
      ],
      "metadata": {
        "id": "SeKbOZQ9Necv",
        "outputId": "88af74f3-2cb1-4852-ac2d-fdeff988b360",
        "colab": {
          "base_uri": "https://localhost:8080/"
        }
      },
      "execution_count": null,
      "outputs": [
        {
          "output_type": "stream",
          "name": "stdout",
          "text": [
            "Second largest number is :  22\n"
          ]
        }
      ]
    },
    {
      "cell_type": "markdown",
      "source": [
        "8.Write a python program to reverse a list at a specific location."
      ],
      "metadata": {
        "id": "VNJCn41yQheA"
      }
    },
    {
      "cell_type": "code",
      "source": [
        "l=['rob','sansa','arya','brandon','rickon']\n",
        "location=3 #reverse at index 2 (0-based indexing)\n",
        "if location<len(l):\n",
        "  reversed_list=l[:location+1]+l[location::-1]\n",
        "  print(\"Reversed list at location \",location, \":\",reversed_list)\n",
        "else:\n",
        "  print(\"Invalid location! Please choose a location within the list length.\")"
      ],
      "metadata": {
        "id": "mWqD9CrhRvwh",
        "outputId": "5660dc19-5a04-4e95-b4f6-77ba8d1c8526",
        "colab": {
          "base_uri": "https://localhost:8080/"
        }
      },
      "execution_count": 110,
      "outputs": [
        {
          "output_type": "stream",
          "name": "stdout",
          "text": [
            "Reversed list at location  3 : ['rob', 'sansa', 'arya', 'brandon', 'brandon', 'arya', 'sansa', 'rob']\n"
          ]
        }
      ]
    },
    {
      "cell_type": "markdown",
      "source": [
        "9.Write a python program to check if a list is a palindrome or not. Return true othrwise false."
      ],
      "metadata": {
        "id": "Q4R3AFJxVgMP"
      }
    },
    {
      "cell_type": "code",
      "source": [
        " L=[11,22,33,44,55,44,33,22,11]\n",
        " print(\"The list is : \" +str(L))\n",
        " reverse = L[::-1]\n",
        " result =L == reverse\n",
        " print(\"Is list is Palindrome : \" +str(result))"
      ],
      "metadata": {
        "id": "1cSMj-IuWAkp",
        "colab": {
          "base_uri": "https://localhost:8080/"
        },
        "outputId": "08b1b24c-f46b-42e4-9529-0e16ce365334"
      },
      "execution_count": 109,
      "outputs": [
        {
          "output_type": "stream",
          "name": "stdout",
          "text": [
            "The list is : [11, 22, 33, 44, 55, 44, 33, 22, 11]\n",
            "Is list is Palindrome : True\n"
          ]
        }
      ]
    },
    {
      "cell_type": "markdown",
      "source": [
        "10.Write a Python program to find the union and intersection of two list."
      ],
      "metadata": {
        "id": "6COIl9rnZ0EH"
      }
    },
    {
      "cell_type": "code",
      "source": [
        "list1=[1,2,3,4,7,8]\n",
        "list2=[2,6,4,9,1,5]\n",
        "def Union(list1, list2):\n",
        "  list3=sorted(list1+list2)\n",
        "  list3=list(set(list3))\n",
        "  return list3\n",
        "print(Union(list1,list2))\n",
        "\n",
        "def intersection(list1,list2):\n",
        "  list3=[value for value in list1 if value in list2]\n",
        "  return list3\n",
        "print(intersection(list1, list2))"
      ],
      "metadata": {
        "id": "Ncqzc7DXaTjX",
        "colab": {
          "base_uri": "https://localhost:8080/"
        },
        "outputId": "9d871984-df53-4e5e-d80f-fa9cdc82774e"
      },
      "execution_count": 62,
      "outputs": [
        {
          "output_type": "stream",
          "name": "stdout",
          "text": [
            "[1, 2, 3, 4, 5, 6, 7, 8, 9]\n",
            "[1, 2, 4]\n"
          ]
        }
      ]
    },
    {
      "cell_type": "markdown",
      "source": [
        "11.Write a python script to sort (ascending and descending)a dictionary by value."
      ],
      "metadata": {
        "id": "n3B6nuL1y8-o"
      }
    },
    {
      "cell_type": "code",
      "source": [
        "my_dict={2:\"stark\",4:\"valarion\",3:\"lannister\",1:\"targaryon\"}\n",
        "sorted_dict = sorted(my_dict.items(), key  = lambda kv:kv[1])\n",
        "print(\"Sorted Dictionary is : \", sorted_dict)"
      ],
      "metadata": {
        "colab": {
          "base_uri": "https://localhost:8080/"
        },
        "id": "XR_aCCDo0M8F",
        "outputId": "874ec931-bd54-4379-d09b-326d0b19a6d4"
      },
      "execution_count": 68,
      "outputs": [
        {
          "output_type": "stream",
          "name": "stdout",
          "text": [
            "Sorted Dictionary is :  [(3, 'lannister'), (2, 'stark'), (1, 'targaryon'), (4, 'valarion')]\n"
          ]
        }
      ]
    },
    {
      "cell_type": "markdown",
      "source": [
        "12.Write a python script to check whether a given key already exist in a dictionary."
      ],
      "metadata": {
        "id": "9Xh85EDH3Hx3"
      }
    },
    {
      "cell_type": "code",
      "source": [
        "dict={2:\"stark\",4:\"valarion\",3:\"lannister\",1:\"targaryon\"}\n",
        "key=4\n",
        "check_key(dict,key)\n",
        "key=5\n",
        "check_key(dict,key)\n",
        "def check_key(dict, key):\n",
        "  if key in dict:\n",
        "    print(\"Value Exist :\", dict[key])\n",
        "  else:\n",
        "    print(\"Not Exist!\")"
      ],
      "metadata": {
        "colab": {
          "base_uri": "https://localhost:8080/"
        },
        "id": "sUH7djRM3dsl",
        "outputId": "483d0f51-07c4-4f7f-c095-7ed8b1617957"
      },
      "execution_count": 70,
      "outputs": [
        {
          "output_type": "stream",
          "name": "stdout",
          "text": [
            "Value Exist : valarion\n",
            "Not Exist!\n"
          ]
        }
      ]
    },
    {
      "cell_type": "markdown",
      "source": [
        "13.Write a python program to sum all the values in a dictionary."
      ],
      "metadata": {
        "id": "GH9BPDfo5Lp4"
      }
    },
    {
      "cell_type": "code",
      "source": [
        "dict={'a':44,'b':88,'c':66,'d':22}\n",
        "def returnSum(my_dict):\n",
        "  list=[]\n",
        "  for i in my_dict:\n",
        "    list.append(my_dict[i])\n",
        "  final=sum(list)\n",
        "  return final\n",
        "print(\"The sum of all the values in the Dictionary is : \",returnSum(dict))"
      ],
      "metadata": {
        "colab": {
          "base_uri": "https://localhost:8080/"
        },
        "id": "yywsl1kY5vjg",
        "outputId": "43c2d037-43e2-4f84-c17c-90fb5519a593"
      },
      "execution_count": 77,
      "outputs": [
        {
          "output_type": "stream",
          "name": "stdout",
          "text": [
            "The sum of all the values in the Dictionary is :  220\n"
          ]
        }
      ]
    },
    {
      "cell_type": "markdown",
      "source": [
        "14.Write a python program to create a dictionary with a number and its corresponding square from 1 to input number. And also check if the input number is less than 10."
      ],
      "metadata": {
        "id": "Mbo3DamV7pwc"
      }
    },
    {
      "cell_type": "code",
      "source": [
        "d={}\n",
        "n=4\n",
        "for i in range(1,n+1):\n",
        "  key=i\n",
        "  value=i*i\n",
        "  new={key:value}\n",
        "  d.update(new)\n",
        "print(d)"
      ],
      "metadata": {
        "colab": {
          "base_uri": "https://localhost:8080/"
        },
        "id": "HePl9OoG86KE",
        "outputId": "b9068250-64b0-4e79-b9ec-b7537234e51d"
      },
      "execution_count": 91,
      "outputs": [
        {
          "output_type": "stream",
          "name": "stdout",
          "text": [
            "{1: 1, 2: 4, 3: 9, 4: 16}\n"
          ]
        }
      ]
    },
    {
      "cell_type": "markdown",
      "source": [
        "15.Write a python program to sort a given dictionary by key."
      ],
      "metadata": {
        "id": "XGPX5nHoBYce"
      }
    },
    {
      "cell_type": "code",
      "source": [
        "my_dict={2:\"stark\",4:\"valarion\",3:\"lannister\",1:\"targaryon\"}\n",
        "my_keys=list(my_dict.keys())\n",
        "my_keys.sort()\n",
        "sorted_dict= {i:my_dict[i]for i in my_keys}\n",
        "print(\"Sorted Dictionary is : \",sorted_dict)\n"
      ],
      "metadata": {
        "colab": {
          "base_uri": "https://localhost:8080/"
        },
        "id": "gz4funFVBqLL",
        "outputId": "5bd24228-6063-42b5-954c-78d790582e12"
      },
      "execution_count": 94,
      "outputs": [
        {
          "output_type": "stream",
          "name": "stdout",
          "text": [
            "Sorted Dictionary is :  {1: 'targaryon', 2: 'stark', 3: 'lannister', 4: 'valarion'}\n"
          ]
        }
      ]
    },
    {
      "cell_type": "markdown",
      "source": [
        "16.Write a python program to create a dictionary from a string."
      ],
      "metadata": {
        "id": "EjWSnteADfkB"
      }
    },
    {
      "cell_type": "code",
      "source": [
        "string = \"learnpython\"\n",
        "char_count={}\n",
        "for char in string:\n",
        "  if char in char_count:\n",
        "    char_count[char]+=1\n",
        "  else:\n",
        "    char_count[char]=1\n",
        "print(char_count)"
      ],
      "metadata": {
        "colab": {
          "base_uri": "https://localhost:8080/"
        },
        "id": "a701g7RODp9b",
        "outputId": "308c5e30-669e-4b4e-b3e1-c4c695722d3d"
      },
      "execution_count": 116,
      "outputs": [
        {
          "output_type": "stream",
          "name": "stdout",
          "text": [
            "{'l': 1, 'e': 1, 'a': 1, 'r': 1, 'n': 2, 'p': 1, 'y': 1, 't': 1, 'h': 1, 'o': 1}\n"
          ]
        }
      ]
    },
    {
      "cell_type": "markdown",
      "source": [
        "17.Write a python program to get the top three items in a shop."
      ],
      "metadata": {
        "id": "4ut8i7rPMWmw"
      }
    },
    {
      "cell_type": "code",
      "source": [
        "def top(my_dict):\n",
        "  result_dict={}\n",
        "  sorted_dict=sorted(my_dict.items(),key=lambda x:x[1],reverse=True)\n",
        "  for i in range(3):\n",
        "    result_dict[sorted_dict[i][0]]=sorted_dict[i][1]\n",
        "  return result_dict\n",
        "my_dict= {'item1':45.50,'item2':35,'item3':41.30,'item4':55,'item5':24}\n",
        "print(top(my_dict))"
      ],
      "metadata": {
        "colab": {
          "base_uri": "https://localhost:8080/"
        },
        "id": "61BBQlJ5MjTi",
        "outputId": "db3b0300-8821-46ad-8b6a-15ca099cea13"
      },
      "execution_count": 108,
      "outputs": [
        {
          "output_type": "stream",
          "name": "stdout",
          "text": [
            "{'item4': 55, 'item1': 45.5, 'item3': 41.3}\n"
          ]
        }
      ]
    }
  ]
}