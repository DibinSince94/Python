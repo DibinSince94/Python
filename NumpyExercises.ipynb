{
  "cells": [
    {
      "cell_type": "markdown",
      "source": [
        "##1. How to extract all odd numbers from arr?"
      ],
      "metadata": {
        "id": "zlsDqrQmJpb5"
      }
    },
    {
      "cell_type": "code",
      "source": [
        "import numpy as np\n",
        "arr = np.array([0, 1, 2, 3, 4, 5, 6, 7, 8, 9])\n",
        "arr2=arr[arr % 2 == 1]\n",
        "print(f\"Odd numbers from the Array are : {arr2}\")"
      ],
      "metadata": {
        "id": "0TWTsB61JzBA",
        "outputId": "7e5fe352-8804-4fc0-e43c-fc0a847fdcab",
        "colab": {
          "base_uri": "https://localhost:8080/"
        }
      },
      "execution_count": null,
      "outputs": [
        {
          "output_type": "stream",
          "name": "stdout",
          "text": [
            "Odd numbers from the Array are : [1 3 5 7 9]\n"
          ]
        }
      ]
    },
    {
      "cell_type": "markdown",
      "source": [
        "## 2. Replace all odd numbers in arr with -1 without changing"
      ],
      "metadata": {
        "id": "KfM0UEHpJ7Pb"
      }
    },
    {
      "cell_type": "code",
      "source": [
        "import numpy as np\n",
        "arr = np.array([0, 1, 2, 3, 4, 5, 6, 7, 8, 9])\n",
        "arr[arr % 2 == 1] = -1\n",
        "print(f\"Modified array: {arr}\")"
      ],
      "metadata": {
        "id": "zOuZg8fgKABC",
        "outputId": "a48e4a99-b94b-4e00-95b5-5c14bd374543",
        "colab": {
          "base_uri": "https://localhost:8080/"
        }
      },
      "execution_count": null,
      "outputs": [
        {
          "output_type": "stream",
          "name": "stdout",
          "text": [
            "Modified array: [ 0 -1  2 -1  4 -1  6 -1  8 -1]\n"
          ]
        }
      ]
    },
    {
      "cell_type": "markdown",
      "source": [
        "## 3. Convert a 1D array to a 2D array with 2 rows"
      ],
      "metadata": {
        "id": "2kzhl3Q5KE1E"
      }
    },
    {
      "cell_type": "code",
      "source": [
        "import numpy as np\n",
        "arr=np.arange(10)\n",
        "arr1 = arr.reshape(2, 5)\n",
        "print (f\"After reshaping : \\n{arr1}\")"
      ],
      "metadata": {
        "id": "iMWpWqQjKJ6j",
        "outputId": "a428c4c7-7ab7-4a7c-8fc3-e0e08d1e4b4e",
        "colab": {
          "base_uri": "https://localhost:8080/"
        }
      },
      "execution_count": null,
      "outputs": [
        {
          "output_type": "stream",
          "name": "stdout",
          "text": [
            "After reshaping : \n",
            "[[0 1 2 3 4]\n",
            " [5 6 7 8 9]]\n"
          ]
        }
      ]
    },
    {
      "cell_type": "markdown",
      "source": [
        "##4. Stack arrays a and b vertically\n"
      ],
      "metadata": {
        "id": "l3Z07N2VKT_l"
      }
    },
    {
      "cell_type": "code",
      "source": [
        "import numpy as np\n",
        "a = np.arange(10).reshape(2,-1)\n",
        "b = np.repeat(1, 10).reshape(2,-1)\n",
        "np.vstack((a,b))"
      ],
      "metadata": {
        "id": "5LO6lJvMKZSW",
        "outputId": "c5175054-c74d-48dc-d325-ebcd4657da82",
        "colab": {
          "base_uri": "https://localhost:8080/"
        }
      },
      "execution_count": null,
      "outputs": [
        {
          "output_type": "execute_result",
          "data": {
            "text/plain": [
              "array([[0, 1, 2, 3, 4],\n",
              "       [5, 6, 7, 8, 9],\n",
              "       [1, 1, 1, 1, 1],\n",
              "       [1, 1, 1, 1, 1]])"
            ]
          },
          "metadata": {},
          "execution_count": 4
        }
      ]
    },
    {
      "cell_type": "markdown",
      "source": [
        "## 5. Stack the arrays a and b horizontally."
      ],
      "metadata": {
        "id": "itsSqsSCKdev"
      }
    },
    {
      "cell_type": "code",
      "source": [
        "import numpy as np\n",
        "a = np.arange(10).reshape(2,-1)\n",
        "b = np.repeat(1, 10).reshape(2,-1)\n",
        "np.hstack((a,b))"
      ],
      "metadata": {
        "id": "Wmjel8oNKlBN",
        "outputId": "0b0184a2-ed05-469f-e9d8-730b1f8caf91",
        "colab": {
          "base_uri": "https://localhost:8080/"
        }
      },
      "execution_count": null,
      "outputs": [
        {
          "output_type": "execute_result",
          "data": {
            "text/plain": [
              "array([[0, 1, 2, 3, 4, 1, 1, 1, 1, 1],\n",
              "       [5, 6, 7, 8, 9, 1, 1, 1, 1, 1]])"
            ]
          },
          "metadata": {},
          "execution_count": 5
        }
      ]
    },
    {
      "cell_type": "markdown",
      "source": [
        "## 6.How to get the common items between two python numpy arrays?\n",
        "Get the common items between a and b"
      ],
      "metadata": {
        "id": "PlPVUDNyKwDC"
      }
    },
    {
      "cell_type": "code",
      "source": [
        "import numpy as np\n",
        "a = np.array([1,2,3,2,3,4,3,4,5,6])\n",
        "b = np.array([7,2,10,2,7,4,9,4,9,8])\n",
        "print(f\"Original arrays :\\n{a},{b}\")\n",
        "c = np.intersect1d(a,b)\n",
        "print(f\"Common values : {c}\")"
      ],
      "metadata": {
        "id": "hDURxOd3Kxvd",
        "outputId": "4660540e-16d9-4ef8-bb82-289e9b10b660",
        "colab": {
          "base_uri": "https://localhost:8080/"
        }
      },
      "execution_count": null,
      "outputs": [
        {
          "output_type": "stream",
          "name": "stdout",
          "text": [
            "Original arrays :\n",
            "[1 2 3 2 3 4 3 4 5 6],[ 7  2 10  2  7  4  9  4  9  8]\n",
            "Common values : [2 4]\n"
          ]
        }
      ]
    },
    {
      "cell_type": "markdown",
      "source": [
        "## 7.How to remove from one array those items that exist in another?\n",
        "Q. From array a remove all items present in array b"
      ],
      "metadata": {
        "id": "p2sSoBkHK-uy"
      }
    },
    {
      "cell_type": "code",
      "source": [
        "import numpy as np\n",
        "a = np.array([1,2,3,4,5])\n",
        "b = np.array([5,6,7,8,9])\n",
        "result = np.setdiff1d(a, b)\n",
        "print(result)"
      ],
      "metadata": {
        "id": "GflwsTCcK_44",
        "outputId": "9d5b9010-aea6-4757-e32b-813eb7f9ec5c",
        "colab": {
          "base_uri": "https://localhost:8080/"
        }
      },
      "execution_count": null,
      "outputs": [
        {
          "output_type": "stream",
          "name": "stdout",
          "text": [
            "[1 2 3 4]\n"
          ]
        }
      ]
    },
    {
      "cell_type": "markdown",
      "source": [
        "##8. How to get the positions where elements of two arrays match?\n",
        "\n",
        "Q. Get the positions where elements of a and b match\n"
      ],
      "metadata": {
        "id": "IZEqvOPKLQal"
      }
    },
    {
      "cell_type": "code",
      "source": [
        "import numpy as np\n",
        "a = np.array([1,2,3,2,3,4,3,4,5,6])\n",
        "b = np.array([7,2,10,2,7,4,9,4,9,8])\n",
        "c=np.where(a==b)\n",
        "print(c)"
      ],
      "metadata": {
        "id": "Y1KsNjYKLTEV",
        "outputId": "84d80481-80ac-4f1d-aaff-45aa3cd98a17",
        "colab": {
          "base_uri": "https://localhost:8080/"
        }
      },
      "execution_count": null,
      "outputs": [
        {
          "output_type": "stream",
          "name": "stdout",
          "text": [
            "(array([1, 3, 5, 7]),)\n"
          ]
        }
      ]
    },
    {
      "cell_type": "markdown",
      "source": [
        "## 9. How to extract all numbers between a given range from a numpy array?\n",
        "Get all items between 5 and 10 from a"
      ],
      "metadata": {
        "id": "lBdderI_LgPr"
      }
    },
    {
      "cell_type": "code",
      "source": [
        "import numpy as np\n",
        "\n",
        "a = np.array([2, 6, 1, 9, 10, 3, 27])\n",
        "index = np.where((a >= 5) & (a <= 10))\n",
        "a[index]"
      ],
      "metadata": {
        "id": "bPMsHfz8LlWK",
        "outputId": "65603d98-f334-461d-ac33-b1ec118bd03b",
        "colab": {
          "base_uri": "https://localhost:8080/"
        }
      },
      "execution_count": null,
      "outputs": [
        {
          "output_type": "execute_result",
          "data": {
            "text/plain": [
              "array([ 6,  9, 10])"
            ]
          },
          "metadata": {},
          "execution_count": 10
        }
      ]
    }
  ],
  "metadata": {
    "colab": {
      "toc_visible": true,
      "provenance": []
    },
    "kernelspec": {
      "display_name": "Python 3",
      "name": "python3"
    }
  },
  "nbformat": 4,
  "nbformat_minor": 0
}