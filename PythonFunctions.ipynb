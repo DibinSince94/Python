{
  "cells": [
    {
      "cell_type": "markdown",
      "source": [
        "Exercise 1: Create a function with a default argument\n",
        "Write a program to create a function show_employee() using the following conditions.\n",
        "It should accept the employee’s name and salary and display both.\n",
        "If the salary is missing in the function call then assign default value 9000 to salary\n",
        "Given:\n",
        "showEmployee(\"Ben\", 12000)\n",
        "showEmployee(\"Jessa\")\n",
        "Expected output:\n",
        "Name: Ben salary: 12000\n",
        "Name: Jessa salary: 9000"
      ],
      "metadata": {
        "id": "rksTdL4cM_Kq"
      }
    },
    {
      "cell_type": "code",
      "source": [
        "def show_employee(a,b=9000):\n",
        "  print(f\"Name : {a}  Salary : {b}\")\n",
        "\n",
        "show_employee(\"Ben\",12000)\n",
        "show_employee(\"Jessa\")"
      ],
      "metadata": {
        "colab": {
          "base_uri": "https://localhost:8080/"
        },
        "id": "xqLXBtLQNEMT",
        "outputId": "835d3819-726e-4dea-ea1c-e454965dbbe0"
      },
      "execution_count": null,
      "outputs": [
        {
          "output_type": "stream",
          "name": "stdout",
          "text": [
            "Name : Ben  Salary : 12000\n",
            "Name : Jessa  Salary : 9000\n"
          ]
        }
      ]
    },
    {
      "cell_type": "markdown",
      "source": [
        "Exercise 2: Create an inner function to calculate the addition in the following way:\n",
        "\n",
        "*Create an outer function that will accept two parameters, a and b\n",
        "\n",
        "*Create an inner function inside an outer function that will calculate the addition of a and b\n",
        "\n",
        "*At last, an outer function will add 5 into addition and return it\n"
      ],
      "metadata": {
        "id": "I2zJ-L28Qem9"
      }
    },
    {
      "cell_type": "code",
      "source": [
        "def add(a,b=8):\n",
        "  sum=a+b\n",
        "  print(f\"The sum of Two Numbers are : {sum}\")\n",
        "  return sum\n",
        "add(5)"
      ],
      "metadata": {
        "colab": {
          "base_uri": "https://localhost:8080/"
        },
        "id": "s4FARxrsRHH0",
        "outputId": "352b921c-f634-4935-daa4-3cb64ffec0f0"
      },
      "execution_count": null,
      "outputs": [
        {
          "output_type": "stream",
          "name": "stdout",
          "text": [
            "The sum of Two Numbers are : 13\n"
          ]
        },
        {
          "output_type": "execute_result",
          "data": {
            "text/plain": [
              "13"
            ]
          },
          "metadata": {},
          "execution_count": 21
        }
      ]
    },
    {
      "cell_type": "markdown",
      "source": [
        "Exercise 3: Generate a Python list of all the even numbers between 4 to 30"
      ],
      "metadata": {
        "id": "4A6TOwcYbho0"
      }
    },
    {
      "cell_type": "code",
      "source": [
        "def even(num1,num2):\n",
        "    if num1>num2:\n",
        "        return\n",
        "    print(num1,end=\" \")\n",
        "    return even(num1+2,num2)\n",
        "num1=4;num2=31\n",
        "even(num1,num2)"
      ],
      "metadata": {
        "colab": {
          "base_uri": "https://localhost:8080/"
        },
        "id": "mULfwPvvbklG",
        "outputId": "a3883085-9aef-4b04-cc3a-194d5e29154e"
      },
      "execution_count": null,
      "outputs": [
        {
          "output_type": "stream",
          "name": "stdout",
          "text": [
            "4 6 8 10 12 14 16 18 20 22 24 26 28 30 "
          ]
        }
      ]
    },
    {
      "cell_type": "markdown",
      "source": [
        "Exercise 4: Lambda Function to Check if value is in a List\n",
        "Given a list, the task is to write a Python program to check if the value exists in the list or not using the lambda function.\n",
        "\n",
        "Input  : L = [1, 2, 3, 4, 5]\n",
        "          element = 4\n",
        "Output :  Element is Present in the list\n",
        "\n",
        "Input :  L = [1, 2, 3, 4, 5]\n",
        "          element = 8\n",
        "Output :  Element is NOT Present in the list\n"
      ],
      "metadata": {
        "id": "ZmQeWPQhgfO1"
      }
    },
    {
      "cell_type": "code",
      "source": [
        "def element(a):\n",
        "  L=[1,2,3,4,5]\n",
        "  res=list(filter(lambda x:x==a,L))\n",
        "  if res:\n",
        "      print(\"Element is Present in the list\")\n",
        "  else:\n",
        "     print(\"Element is NOT Present in the list\")\n",
        "element(4)\n",
        "element(8)"
      ],
      "metadata": {
        "colab": {
          "base_uri": "https://localhost:8080/"
        },
        "id": "nZhuYq8ygoHf",
        "outputId": "a7d3ef6e-369b-4519-92c5-78538a9baa6b"
      },
      "execution_count": null,
      "outputs": [
        {
          "output_type": "stream",
          "name": "stdout",
          "text": [
            "Element is Present in the list\n",
            "Element is NOT Present in the list\n"
          ]
        }
      ]
    },
    {
      "cell_type": "markdown",
      "source": [
        "Exercise 5: Sort list of tuples with their sum\n",
        "Sort the points based on their sum of elements in the tuples\n",
        "\n",
        "points = [(1, 2), (5, 3), (0, 7), (3, 1)]"
      ],
      "metadata": {
        "id": "Oj9E6XaLiJvm"
      }
    },
    {
      "cell_type": "code",
      "source": [
        "points = [(1, 2), (5, 3), (0, 7), (3, 1)]\n",
        "points.sort(key=lambda x: sum(x))\n",
        "print(points)\n"
      ],
      "metadata": {
        "colab": {
          "base_uri": "https://localhost:8080/"
        },
        "id": "b15gfDB6i4_a",
        "outputId": "53da911c-fc99-4112-d4d3-de613aaefac1"
      },
      "execution_count": null,
      "outputs": [
        {
          "output_type": "stream",
          "name": "stdout",
          "text": [
            "[(1, 2), (3, 1), (0, 7), (5, 3)]\n"
          ]
        }
      ]
    },
    {
      "cell_type": "markdown",
      "source": [
        "Exercise 6 : Write a python function, which will find all such numbers between 1000 and 3000 (both included) such that each digit of the number is an even number. Return the results as a list\n"
      ],
      "metadata": {
        "id": "FOF4xoNpjIgb"
      }
    },
    {
      "cell_type": "code",
      "source": [
        "numbers = []\n",
        "for x in range (1000, 3000):\n",
        "    numSplit = [int(d) for d in str(x)]\n",
        "    odd = False\n",
        "    for y in range (0, len(numSplit)):\n",
        "        if numSplit[y] % 2 != 0:\n",
        "            odd = True\n",
        "    if (odd == False):\n",
        "        numbers.append(x)\n",
        "print (numbers)"
      ],
      "metadata": {
        "colab": {
          "base_uri": "https://localhost:8080/"
        },
        "id": "ktIlkmC7tCdB",
        "outputId": "7f565459-6be9-4742-d1b5-83e105575798"
      },
      "execution_count": null,
      "outputs": [
        {
          "output_type": "stream",
          "name": "stdout",
          "text": [
            "[2000, 2002, 2004, 2006, 2008, 2020, 2022, 2024, 2026, 2028, 2040, 2042, 2044, 2046, 2048, 2060, 2062, 2064, 2066, 2068, 2080, 2082, 2084, 2086, 2088, 2200, 2202, 2204, 2206, 2208, 2220, 2222, 2224, 2226, 2228, 2240, 2242, 2244, 2246, 2248, 2260, 2262, 2264, 2266, 2268, 2280, 2282, 2284, 2286, 2288, 2400, 2402, 2404, 2406, 2408, 2420, 2422, 2424, 2426, 2428, 2440, 2442, 2444, 2446, 2448, 2460, 2462, 2464, 2466, 2468, 2480, 2482, 2484, 2486, 2488, 2600, 2602, 2604, 2606, 2608, 2620, 2622, 2624, 2626, 2628, 2640, 2642, 2644, 2646, 2648, 2660, 2662, 2664, 2666, 2668, 2680, 2682, 2684, 2686, 2688, 2800, 2802, 2804, 2806, 2808, 2820, 2822, 2824, 2826, 2828, 2840, 2842, 2844, 2846, 2848, 2860, 2862, 2864, 2866, 2868, 2880, 2882, 2884, 2886, 2888]\n"
          ]
        }
      ]
    },
    {
      "cell_type": "markdown",
      "source": [],
      "metadata": {
        "id": "gJTJHDnnaonn"
      }
    },
    {
      "cell_type": "markdown",
      "source": [
        "Exercise 7 : Write a python function that accepts a sentence and calculate and return the number of letters and digits.\n",
        "Suppose the following input is supplied to the program:\n",
        "hello world! 123\n",
        "Then, the output should be:\n",
        "LETTERS 10\n",
        "DIGITS 3\n"
      ],
      "metadata": {
        "id": "jASoezr7awHk"
      }
    },
    {
      "cell_type": "code",
      "source": [
        "def count_letters_digits(sentence):\n",
        "  letters = 0\n",
        "  digits = 0\n",
        "  for char in sentence:\n",
        "    if char.isalpha():\n",
        "      letters += 1\n",
        "    elif char.isdigit():\n",
        "      digits += 1\n",
        "  return letters, digits\n",
        "\n",
        "sentence = \"hello world! 123\"\n",
        "letters, digits = count_letters_digits(sentence)\n",
        "print(f\"LETTERS {letters} DIGITS {digits}\")"
      ],
      "metadata": {
        "colab": {
          "base_uri": "https://localhost:8080/"
        },
        "id": "x6p-8oDadZ2C",
        "outputId": "d8933b26-0e11-4eaa-9c96-e910e94dadf8"
      },
      "execution_count": null,
      "outputs": [
        {
          "output_type": "stream",
          "name": "stdout",
          "text": [
            "LETTERS 10 DIGITS 3\n"
          ]
        }
      ]
    },
    {
      "cell_type": "markdown",
      "source": [
        "Exercise 8 : Write a Python program to convert all the characters into uppercase and lowercase and eliminate duplicate letters from a given sequence. Use the map() function\n"
      ],
      "metadata": {
        "id": "u9jybOMWeOeu"
      }
    },
    {
      "cell_type": "code",
      "source": [
        "def change_cases(s):\n",
        "  return str(s).upper(), str(s).lower()\n",
        "chrars = {'s', 'i', 'M', 'p', 'L', 'e','p','O','W','e','R','f','U','l','L'}\n",
        "print(\"Original Characters:\\n\",chrars)\n",
        "result = map(change_cases, chrars)\n",
        "print(set(result))"
      ],
      "metadata": {
        "id": "br9frah-jgt4"
      },
      "execution_count": null,
      "outputs": []
    },
    {
      "cell_type": "markdown",
      "source": [
        " Exercise 9 : Write a Python program to add two given lists and find the difference between them. Use the map() function"
      ],
      "metadata": {
        "id": "_XhbyHvSggCj"
      }
    },
    {
      "cell_type": "code",
      "source": [
        "list1 = [9,6,4,5,4,8,3,4,2,8]\n",
        "list2 = [8,9,2,1,2,3,5,6,5,6]\n",
        "result = map(lambda x, y: x + y, list1, list2)\n",
        "print(\"Sum of two lists:\", list(result))\n",
        "result = map(lambda x, y: x - y, list1, list2)\n",
        "print(\"Difference of two lists:\", list(result))"
      ],
      "metadata": {
        "colab": {
          "base_uri": "https://localhost:8080/"
        },
        "id": "jyFOy9Qjgvm7",
        "outputId": "6fabd9cd-002a-4413-8dcd-3a4f3a00d34a"
      },
      "execution_count": null,
      "outputs": [
        {
          "output_type": "stream",
          "name": "stdout",
          "text": [
            "Sum of two lists: [17, 15, 6, 6, 6, 11, 8, 10, 7, 14]\n",
            "Difference of two lists: [1, -3, 2, 4, 2, 5, -2, -2, -3, 2]\n"
          ]
        }
      ]
    },
    {
      "cell_type": "markdown",
      "source": [
        "Exercise 10 : Write a Python program to filter the height and weight of students, which are stored in a dictionary using lambda."
      ],
      "metadata": {
        "id": "vVXwg5driJDH"
      }
    },
    {
      "cell_type": "code",
      "source": [
        "def filter_data(students):\n",
        "    result = dict(filter(lambda x: (x[1][0], x[1][1]) > (6.0, 70), students.items()))\n",
        "    return result\n",
        "students = {\n",
        "    'Mike': (6.2, 70),\n",
        "    'Lucas': (5.9, 65),\n",
        "    'Will': (6.0, 68),\n",
        "    'Dustin': (5.8, 66)\n",
        "}\n",
        "print(\"Original Dictionary:\")\n",
        "print(students)\n",
        "print(\"\\nHeight > 6ft and Weight > 70kg:\")\n",
        "print(filter_data(students))"
      ],
      "metadata": {
        "colab": {
          "base_uri": "https://localhost:8080/"
        },
        "id": "aGypxZSBiOVu",
        "outputId": "de46e256-ac9a-44c8-948b-583bc989d513"
      },
      "execution_count": null,
      "outputs": [
        {
          "output_type": "stream",
          "name": "stdout",
          "text": [
            "Original Dictionary:\n",
            "{'Mike': (6.2, 70), 'Lucas': (5.9, 65), 'Will': (6.0, 68), 'Dustin': (5.8, 66)}\n",
            "\n",
            "Height > 6ft and Weight > 70kg:\n",
            "{'Mike': (6.2, 70)}\n"
          ]
        }
      ]
    },
    {
      "cell_type": "markdown",
      "source": [
        "Exercise 11 : Write a Python program to remove all elements from a given list present in another list using lambda.\n",
        "Original lists:\n",
        "list1: [1, 2, 3, 4, 5, 6, 7, 8, 9, 10]\n",
        "list2: [2, 4, 6, 8]\n",
        "Remove all elements from 'list1' present in 'list2:\n",
        "[1, 3, 5, 7, 9, 10]"
      ],
      "metadata": {
        "id": "EpjjvME8noWH"
      }
    },
    {
      "cell_type": "code",
      "source": [
        "list1 = [1, 2, 3, 4, 5, 6, 7, 8, 9, 10]\n",
        "list2 = [2, 4, 6, 8]\n",
        "result = list(filter(lambda x: x not in list2, list1))\n",
        "print(result)\n"
      ],
      "metadata": {
        "colab": {
          "base_uri": "https://localhost:8080/"
        },
        "id": "cVGMOF8dn37M",
        "outputId": "104a194b-9775-495b-d809-b5d448a6e6e6"
      },
      "execution_count": null,
      "outputs": [
        {
          "output_type": "stream",
          "name": "stdout",
          "text": [
            "[1, 3, 5, 7, 9, 10]\n"
          ]
        }
      ]
    },
    {
      "cell_type": "markdown",
      "source": [
        "Exercise 12 : Write a Python program to calculate the product of a given list of numbers using lambda.\n",
        "list1: [1, 2, 3, 4, 5, 6, 7, 8, 9, 10]\n",
        "Product of the said list numbers:\n",
        "3628800"
      ],
      "metadata": {
        "id": "yELrRR3VoUGk"
      }
    },
    {
      "cell_type": "code",
      "source": [
        "\n",
        "import functools\n",
        "def remove_duplicates(num):\n",
        "    result = functools.reduce(lambda x, y: x * y, num, 1)\n",
        "    return result\n",
        "list1 = [1,2,3,4,5,6,7,8,9,10]\n",
        "print(\"list1:\", list1)\n",
        "print(\"Product of the said list numbers:\")\n",
        "print(remove_duplicates(list1))"
      ],
      "metadata": {
        "colab": {
          "base_uri": "https://localhost:8080/"
        },
        "id": "OnMo0CHxok-h",
        "outputId": "9744514d-7e32-4474-f255-14e2fa509519"
      },
      "execution_count": null,
      "outputs": [
        {
          "output_type": "stream",
          "name": "stdout",
          "text": [
            "list1: [1, 2, 3, 4, 5, 6, 7, 8, 9, 10]\n",
            "Product of the said list numbers:\n",
            "3628800\n"
          ]
        }
      ]
    },
    {
      "cell_type": "markdown",
      "source": [
        "Exercise 13 : Write a Python program to multiply all the numbers in a given list using lambda.\n",
        "Original list:\n",
        "[4, 3, 2, 2, -1, 18]\n",
        "Multiply all the numbers of the said list: -864"
      ],
      "metadata": {
        "id": "v9aDf_TUqkOv"
      }
    },
    {
      "cell_type": "code",
      "source": [
        "from functools import reduce\n",
        "list1 = [4,3,2,2,-1,18]\n",
        "result1 = reduce((lambda x, y: x * y), list1)\n",
        "print(f\"Multiplication of the numbers in the given list : {result1}\")\n"
      ],
      "metadata": {
        "colab": {
          "base_uri": "https://localhost:8080/"
        },
        "id": "E1f5b5IprPXG",
        "outputId": "99e521fc-de9a-4de4-d930-332788576490"
      },
      "execution_count": null,
      "outputs": [
        {
          "output_type": "stream",
          "name": "stdout",
          "text": [
            "Multiplication of the numbers in the given list : -864\n"
          ]
        }
      ]
    },
    {
      "cell_type": "markdown",
      "source": [
        "Exercise 14 : Write a Python program to calculate the average value of the numbers in a given tuple of tuples using lambda.\n",
        "Original Tuple:\n",
        "((10, 10, 10), (30, 45, 56), (81, 80, 39), (1, 2, 3))\n",
        "Average value of the numbers of the said tuple of tuples:\n",
        "(30.5, 34.25, 27.0)"
      ],
      "metadata": {
        "id": "jYaidmGIsUDh"
      }
    },
    {
      "cell_type": "code",
      "source": [
        "# prompt: Write a Python program to calculate the average value of the numbers in a given tuple of tuples using lambda. Original Tuple: ((10, 10, 10), (30, 45, 56), (81, 80, 39), (1, 2, 3)) Average value of the numbers of the said tuple of tuples: (30.5, 34.25, 27.0)\n",
        "\n",
        "tuple1 = ((10, 10, 10), (30, 45, 56), (81, 80, 39), (1, 2, 3))\n",
        "result = tuple(map(lambda x: sum(x)/3, tuple1))\n",
        "print(result)\n"
      ],
      "metadata": {
        "colab": {
          "base_uri": "https://localhost:8080/"
        },
        "id": "4rrRd-REsdC1",
        "outputId": "faca2f07-780c-478a-b250-b027f2f04fc4"
      },
      "execution_count": null,
      "outputs": [
        {
          "output_type": "stream",
          "name": "stdout",
          "text": [
            "(10.0, 43.666666666666664, 66.66666666666667, 2.0)\n"
          ]
        }
      ]
    },
    {
      "cell_type": "markdown",
      "source": [
        "Exercise 15 : Write a Python program to sort a given mixed list of integers and strings using lambda. Numbers must be sorted before strings.\n",
        "Original list:\n",
        "[19, 'red', 12, 'green', 'blue', 10, 'white', 'green', 1]\n",
        "Sort the said mixed list of integers and strings:\n",
        "[1, 10, 12, 19, 'blue', 'green', 'green', 'red', 'white']\n"
      ],
      "metadata": {
        "id": "VeKzhNbuoas6"
      }
    },
    {
      "cell_type": "code",
      "source": [
        "def sort_mixed_list(mixed_list):\n",
        "    mixed_list.sort(key=lambda e: (isinstance(e, str), e))\n",
        "    return mixed_list\n",
        "mixed_list = [19, 'red', 12, 'green', 'blue', 10, 'white', 'green', 1]\n",
        "print(\"Original list:\")\n",
        "print(mixed_list)\n",
        "print(\"\\nSort the said mixed list of integers and strings:\")\n",
        "print(sort_mixed_list(mixed_list))"
      ],
      "metadata": {
        "colab": {
          "base_uri": "https://localhost:8080/"
        },
        "id": "HKJKwJRAptMY",
        "outputId": "e289fa2d-bbc7-41bb-fe97-8e12939138dd"
      },
      "execution_count": 4,
      "outputs": [
        {
          "output_type": "stream",
          "name": "stdout",
          "text": [
            "Original list:\n",
            "[19, 'red', 12, 'green', 'blue', 10, 'white', 'green', 1]\n",
            "\n",
            "Sort the said mixed list of integers and strings:\n",
            "[1, 10, 12, 19, 'blue', 'green', 'green', 'red', 'white']\n"
          ]
        }
      ]
    },
    {
      "cell_type": "markdown",
      "source": [
        "Exercise 16 : Write a Python program to count the occurrences of items in a given list using lambda.\n",
        "Original list:\n",
        "[3, 4, 5, 8, 0, 3, 8, 5, 0, 3, 1, 5, 2, 3, 4, 2]\n",
        "Count the occurrences of the items in the said list:\n",
        "{3: 4, 4: 2, 5: 3, 8: 2, 0: 2, 1: 1, 2: 2}"
      ],
      "metadata": {
        "id": "gk7z8n8FqQq9"
      }
    },
    {
      "cell_type": "code",
      "source": [
        "def count_occurrences(nums):\n",
        "    result = dict(map(lambda el: (el, list(nums).count(el)), nums))\n",
        "    return result\n",
        "nums = [3, 4, 5, 8, 0, 3, 8, 5, 0, 3, 1, 5, 2, 3, 4, 2]\n",
        "print(\"Original list:\")\n",
        "print(nums)\n",
        "print(\"\\nCount the occurrences of the items in the said list:\")\n",
        "print(count_occurrences(nums))"
      ],
      "metadata": {
        "colab": {
          "base_uri": "https://localhost:8080/"
        },
        "id": "NM2eO7BerJq_",
        "outputId": "0b9dfe15-67ed-4b4c-a7d1-116be8beee54"
      },
      "execution_count": 6,
      "outputs": [
        {
          "output_type": "stream",
          "name": "stdout",
          "text": [
            "Original list:\n",
            "[3, 4, 5, 8, 0, 3, 8, 5, 0, 3, 1, 5, 2, 3, 4, 2]\n",
            "\n",
            "Count the occurrences of the items in the said list:\n",
            "{3: 4, 4: 2, 5: 3, 8: 2, 0: 2, 1: 1, 2: 2}\n"
          ]
        }
      ]
    },
    {
      "cell_type": "markdown",
      "source": [
        "Exerecise 17 : Write a Python program to remove None values from a given list using the lambda function.\n",
        "Original list:\n",
        "[12, 0, None, 23, None, -55, 234, 89, None, 0, 6, -12]\n",
        "Remove None value from the said list:\n",
        "[12, 0, 23, -55, 234, 89, 0, 6, -12]"
      ],
      "metadata": {
        "id": "FfdN-ESmrfUW"
      }
    },
    {
      "cell_type": "code",
      "source": [
        "def remove_none(nums):\n",
        "    result = filter(lambda v: v is not None, nums)\n",
        "    return list(result)\n",
        "nums = [12, 0, None, 23, None, -55, 234, 89, None, 0, 6, -12]\n",
        "print(\"Original list:\")\n",
        "print(nums)\n",
        "print(\"\\nRemove None value from the said list:\")\n",
        "print(remove_none(nums))"
      ],
      "metadata": {
        "colab": {
          "base_uri": "https://localhost:8080/"
        },
        "id": "tmNFCMLxr7SG",
        "outputId": "2041ae11-96e6-46ab-8c2d-a635f269df7b"
      },
      "execution_count": 7,
      "outputs": [
        {
          "output_type": "stream",
          "name": "stdout",
          "text": [
            "Original list:\n",
            "[12, 0, None, 23, None, -55, 234, 89, None, 0, 6, -12]\n",
            "\n",
            "Remove None value from the said list:\n",
            "[12, 0, 23, -55, 234, 89, 0, 6, -12]\n"
          ]
        }
      ]
    }
  ],
  "metadata": {
    "colab": {
      "toc_visible": true,
      "provenance": []
    },
    "kernelspec": {
      "display_name": "Python 3",
      "name": "python3"
    }
  },
  "nbformat": 4,
  "nbformat_minor": 0
}